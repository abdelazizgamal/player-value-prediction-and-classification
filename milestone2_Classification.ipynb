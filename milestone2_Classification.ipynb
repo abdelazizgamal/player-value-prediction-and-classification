{
 "cells": [
  {
   "cell_type": "code",
   "execution_count": 1,
   "id": "e35959b3",
   "metadata": {},
   "outputs": [],
   "source": [
    "import numpy as np\n",
    "import pandas as pd\n",
    "import time\n",
    "import matplotlib.pyplot as plt\n",
    "from sklearn.model_selection import train_test_split\n",
    "from sklearn.preprocessing import PolynomialFeatures\n",
    "from Pre_processing import *\n",
    "from dython.nominal import associations\n",
    "from sklearn.tree import DecisionTreeClassifier\n",
    "from sklearn import svm\n",
    "from sklearn.linear_model import LogisticRegression\n",
    "import pickle\n",
    "from sklearn.ensemble import AdaBoostClassifier\n",
    "pd.set_option('mode.chained_assignment', None)"
   ]
  },
  {
   "cell_type": "code",
   "execution_count": 2,
   "id": "288aae13",
   "metadata": {},
   "outputs": [
    {
     "name": "stdout",
     "output_type": "stream",
     "text": [
      "dict_keys(['model1', 'mode12', 'mode13', 'Top_features', 'statistics'])\n"
     ]
    }
   ],
   "source": [
    "\n",
    "dbfile = open('milestone2_Pickle', 'rb')     \n",
    "db = pickle.load(dbfile)\n",
    "dbfile.close()\n",
    "print(db.keys())"
   ]
  },
  {
   "cell_type": "code",
   "execution_count": 3,
   "id": "5c7e0227",
   "metadata": {},
   "outputs": [],
   "source": [
    "model1 = db['model1']\n",
    "model2 = db['mode12']\n",
    "model3 = db['mode13']\n",
    "top_feature = db['Top_features']\n",
    "statistics = db['statistics']"
   ]
  },
  {
   "cell_type": "code",
   "execution_count": 4,
   "id": "8eadd6b9",
   "metadata": {},
   "outputs": [],
   "source": [
    "#Read data from file #\n",
    "def getData(path):\n",
    "    data = pd.read_csv(path)\n",
    "    temp = []\n",
    "    for i in data['national_team']:\n",
    "        if type(i) != str:\n",
    "            value = '0'\n",
    "        else:\n",
    "            value = '1'\n",
    "        temp.append(value)\n",
    "    data['national_team'] = temp\n",
    "   \n",
    "    return data\n",
    "data = getData('player-classification.csv')\n",
    "## get mean or mode for every column in data\n",
    "mean_mode = get_mode_means(data)\n"
   ]
  },
  {
   "cell_type": "code",
   "execution_count": 5,
   "id": "de4c0274",
   "metadata": {},
   "outputs": [],
   "source": [
    "def preprocessing(data):\n",
    "    data = data.loc[:, data.isnull().sum() < 0.25*data.shape[0]]\n",
    "    \n",
    "    #split column 'position'\n",
    "    temp = []\n",
    "    for i in data['positions']:\n",
    "        l = i.split(',')\n",
    "        temp.append(l[0])\n",
    "    data['positions'] = temp\n",
    "    #split column 'work_rate'\n",
    "    temp.clear()\n",
    "    for i in data['work_rate']:\n",
    "        l = i.split('/')\n",
    "        temp.append(l[0])\n",
    "    data['work_rate'] = temp\n",
    "    \n",
    "    #Replace null value with mean at wage and value columns\n",
    "    data['PlayerLevel'].fillna(value=mean_mode['PlayerLevel'], inplace=True)\n",
    "    data['wage'].fillna(value=mean_mode['wage'], inplace=True)\n",
    "    data.dropna(how='any',inplace=True)\n",
    "\n",
    "    #fix certain columns in data \n",
    "    Columns=['LS','ST','RS','LW','LF','CF','RF','RW','LAM','CAM','RAM','LM','LCM','CM','RCM','RM','LWB','LDM','CDM','RDM','RWB','LB','LCB','CB','RCB','RB']\n",
    "    for i in Columns:\n",
    "        position(i,data)\n",
    "\n",
    "    #Date encodig\n",
    "    date_toInt(data,'contract_end_year')\n",
    "    date_toInt(data,'birth_date')\n",
    "    date_toInt(data,'club_join_date')\n",
    "   \n",
    "    return data\n",
    "\n",
    "data = preprocessing(data)\n"
   ]
  },
  {
   "cell_type": "code",
   "execution_count": 6,
   "id": "5fd37578",
   "metadata": {},
   "outputs": [],
   "source": [
    "\n",
    "# df = data[['overall_rating', 'potential', 'wage', 'skill_moves(1-5)',\n",
    "#        'release_clause_euro', 'club_rating', 'short_passing', 'dribbling',\n",
    "#        'long_passing', 'ball_control', 'reactions', 'shot_power', 'vision',\n",
    "#        'composure', 'LS', 'ST', 'RS', 'LW', 'LF', 'CF', 'RF', 'RW', 'LAM',\n",
    "#        'CAM', 'RAM', 'LM', 'LCM', 'CM', 'RCM', 'RM', 'LWB', 'LDM', 'CDM',\n",
    "#        'RDM', 'RWB','club_team','PlayerLevel']]\n",
    "            \n",
    "# ###correlation\n",
    "# correlation = associations(\n",
    "#         data, filename='correlation.png', figsize=(8, 10),)\n",
    "\n",
    "\n"
   ]
  },
  {
   "cell_type": "code",
   "execution_count": 7,
   "id": "8c19a582",
   "metadata": {},
   "outputs": [],
   "source": [
    "#get features with correlation grater than 0.55\n",
    "# top_feature =correlation['corr'].index[abs(correlation['corr']['PlayerLevel'])>0.55]\n",
    "# top_feature = top_feature.delete(-1)\n"
   ]
  },
  {
   "cell_type": "code",
   "execution_count": null,
   "id": "0250fe91",
   "metadata": {},
   "outputs": [],
   "source": []
  },
  {
   "cell_type": "code",
   "execution_count": 8,
   "id": "f6b62f4a",
   "metadata": {},
   "outputs": [],
   "source": [
    "#Encoding categorical data \n",
    "categorical_columns_selector = selector(dtype_include=object)\n",
    "categorical_columns = categorical_columns_selector(data)\n",
    "data, encoders = Feature_Encoder(data,categorical_columns)\n",
    "def preprocessing2(dt):\n",
    "    #Drop columns which do not affect on our model\n",
    "    dt=dt.drop(['id','name','full_name','birth_date'], axis = 1)\n",
    "    return dt\n",
    "data= preprocessing2(data)\n"
   ]
  },
  {
   "cell_type": "code",
   "execution_count": 9,
   "id": "d8ce4ab0",
   "metadata": {},
   "outputs": [],
   "source": [
    "#Assign X(features) and Y(target) data\n",
    "features = []\n",
    "features.append(top_feature)\n",
    "features.append(['reactions','composure','CM','RCM','ST','RS','CF','RF','CAM','RAM'])\n",
    "X = data[features[0]]\n",
    "#X.insert(0,'national_team',data['national_team'])\n",
    "#drop high correlated feauters\n",
    "X=X.drop(features[1], axis = 1)\n",
    "Y=data[\"PlayerLevel\"]"
   ]
  },
  {
   "cell_type": "code",
   "execution_count": 10,
   "id": "0c823d96",
   "metadata": {
    "scrolled": true
   },
   "outputs": [],
   "source": [
    "##split data to test and train 80% : 20%\n",
    "X_train, X_test, y_train, y_test = train_test_split(X, Y, test_size = 0.20,shuffle=True,random_state=10)\n",
    "X_train, X_test, Scaler = Preprocessing_Scaling(X_train, X_test)\n"
   ]
  },
  {
   "cell_type": "code",
   "execution_count": 11,
   "id": "133ef46a",
   "metadata": {},
   "outputs": [
    {
     "name": "stdout",
     "output_type": "stream",
     "text": [
      "DecisionTreeClassifierModel Train Score is :  1.0\n",
      "DecisionTreeClassifierModel Test Score is :  0.9586298932384342\n",
      "----------------------------------------------------\n"
     ]
    }
   ],
   "source": [
    "# statistics = {}\n",
    "# ## DecisionTree_Classifier “gini”, “entropy”, “log_loss”\n",
    "# model1 = AdaBoostClassifier(DecisionTreeClassifier(max_depth=13,max_leaf_nodes = 50),\n",
    "#                          algorithm=\"SAMME\",\n",
    "#                          n_estimators=100,random_state=15)\n",
    "# time1_train = time.time()\n",
    "# model1.fit(X_train,y_train)\n",
    "# time1_train = time.time() - time1_train\n",
    "print('DecisionTreeClassifierModel Train Score is : ' , model1.score(X_train, y_train))\n",
    "time1_test = time.time()\n",
    "model1_accuracy = model1.score(X_test, y_test)\n",
    "time1_test = time.time() - time1_test\n",
    "print('DecisionTreeClassifierModel Test Score is : ' , model1_accuracy )\n",
    "print('----------------------------------------------------')\n",
    "# statistics['model1'] = [model1_accuracy,time1_train,time1_test]"
   ]
  },
  {
   "cell_type": "code",
   "execution_count": 12,
   "id": "eca1df0c",
   "metadata": {},
   "outputs": [
    {
     "name": "stdout",
     "output_type": "stream",
     "text": [
      "SvmClassifierModel Train Score is :  0.9562798976526866\n",
      "SvmClassifierModel Test Score is :  0.9261565836298933\n"
     ]
    }
   ],
   "source": [
    "##Svm_Classifier\n",
    "# model2 = svm.SVC(C=1200,kernel='rbf',gamma = 0.02)\n",
    "\n",
    "# time2_train = time.time()\n",
    "# model2.fit(X_train,y_train)\n",
    "# time2_train = time.time() - time2_train\n",
    "\n",
    "time2_test = time.time()\n",
    "model2_accuracy = model2.score(X_test, y_test)\n",
    "time2_test = time.time() - time2_test\n",
    "print('SvmClassifierModel Train Score is : ' , model2.score(X_train, y_train))\n",
    "print('SvmClassifierModel Test Score is : ' , model2_accuracy )\n",
    "# statistics['model2'] = [model2_accuracy,time2_train,time2_test]"
   ]
  },
  {
   "cell_type": "code",
   "execution_count": 13,
   "id": "b5edfb44",
   "metadata": {},
   "outputs": [
    {
     "name": "stdout",
     "output_type": "stream",
     "text": [
      "LogisticRegressionClassifierModel Train Score is :  0.9585048392479697\n",
      "LogisticRegressionClassifierModel Test Score is :  0.9261565836298933\n"
     ]
    }
   ],
   "source": [
    "#LogisticRegression_Classifier\n",
    "poly = PolynomialFeatures( degree = 2 , include_bias = False)\n",
    "poly.fit(X_train)\n",
    "x_poly_train = poly.transform(X_train)\n",
    "# model3 = LogisticRegression(C = 1000 , max_iter = 10000 )\n",
    "\n",
    "# time3_train = time.time()\n",
    "# model3.fit(x_poly_train,y_train)\n",
    "# time3_train = time.time() - time3_train\n",
    "x_poly_test = poly.transform(X_test)\n",
    "time3_test = time.time()\n",
    "model3_accuracy = model3.score(x_poly_test, y_test)\n",
    "time3_test = time.time() - time3_test\n",
    "print('LogisticRegressionClassifierModel Train Score is : ' , model3.score(x_poly_train, y_train))\n",
    "print('LogisticRegressionClassifierModel Test Score is : ' , model3_accuracy )\n",
    "# statistics['model3'] = [model3_accuracy,time3_train,time3_test]"
   ]
  },
  {
   "cell_type": "code",
   "execution_count": 14,
   "id": "aaa3a067",
   "metadata": {
    "scrolled": true
   },
   "outputs": [
    {
     "name": "stdout",
     "output_type": "stream",
     "text": [
      "Predicted Value for DecisionTreeClassifierModel is :  [0 2 2]\n",
      "Predicted class for DecisionTreeClassifierModel is :  ['A' 'C' 'C']\n",
      "DecisionTreeClassifierModel Test Score is :  100.0 %\n"
     ]
    }
   ],
   "source": [
    "def fillnaa(df):\n",
    "    \n",
    "    #handel cat vars\n",
    "    #print(df.isnull().sum())\n",
    "    for i in df:\n",
    "        df[i].fillna(value=mean_mode[i], inplace=True)\n",
    "    #print(df.isnull().sum())\n",
    "    return df\n",
    "def testfile(path,features,model):\n",
    "    #Split data\n",
    "    df = getData(path)\n",
    "    df = fillnaa(df)\n",
    "    df = preprocessing(df)\n",
    "    df = encoder_transform(df,encoders.keys(),encoders )\n",
    "    df = preprocessing2(df)\n",
    "    xx = df[features[0]]\n",
    "    xx = xx.drop(features[1], axis = 1)\n",
    "    yy = df[\"PlayerLevel\"]\n",
    "    xx = Scaler.transform(xx)\n",
    "    y_pred1 = model.predict(xx)\n",
    "    print('Predicted Value for DecisionTreeClassifierModel is : ' , y_pred1[:20])\n",
    "    print('Predicted class for DecisionTreeClassifierModel is : ' , encoders[\"PlayerLevel\"].inverse_transform(y_pred1[:20]))\n",
    "    print('DecisionTreeClassifierModel Test Score is : ' , model.score(xx, yy)*100,'%')\n",
    "\n",
    "testfile('player-test-samples.csv',features,model1)"
   ]
  },
  {
   "cell_type": "code",
   "execution_count": 15,
   "id": "a5fa09c0",
   "metadata": {},
   "outputs": [
    {
     "data": {
      "text/plain": [
       "{'model1': [0.9586298932384342, 4.857203483581543, 0.05424904823303223],\n",
       " 'model2': [0.9261565836298933, 2.601562261581421, 0.6512620449066162],\n",
       " 'model3': [0.9261565836298933, 77.90359854698181, 0.0009961128234863281]}"
      ]
     },
     "execution_count": 15,
     "metadata": {},
     "output_type": "execute_result"
    }
   ],
   "source": [
    "statistics"
   ]
  },
  {
   "cell_type": "code",
   "execution_count": 16,
   "id": "dc6c3b45",
   "metadata": {},
   "outputs": [
    {
     "data": {
      "image/png": "[encoded data removed]",
      "text/plain": [
       "<Figure size 360x216 with 1 Axes>"
      ]
     },
     "metadata": {
      "needs_background": "light"
     },
     "output_type": "display_data"
    }
   ],
   "source": [
    "\n",
    "import numpy as np\n",
    "import matplotlib.pyplot as plt\n",
    " \n",
    "fig = plt.figure(figsize = (5, 3))\n",
    "x_  = list(statistics.keys())\n",
    "y_  = []\n",
    "for i in statistics:\n",
    "    y_.append(statistics[i][0])\n",
    "# creating the bar plot\n",
    "plt.bar(x_, y_, color ='maroon',\n",
    "        width = 0.4)\n",
    " \n",
    "plt.xlabel(\"Models\")\n",
    "plt.ylabel(\"Accuracy\")\n",
    "plt.title(\" classification accuracy\")\n",
    "plt.show()"
   ]
  },
  {
   "cell_type": "code",
   "execution_count": 17,
   "id": "97746a52",
   "metadata": {},
   "outputs": [
    {
     "data": {
      "image/png": "[encoded data removed]",
      "text/plain": [
       "<Figure size 360x216 with 1 Axes>"
      ]
     },
     "metadata": {
      "needs_background": "light"
     },
     "output_type": "display_data"
    }
   ],
   "source": [
    "fig = plt.figure(figsize = (5, 3))\n",
    "x_  = list(statistics.keys())\n",
    "y_  = []\n",
    "for i in statistics:\n",
    "    y_.append(statistics[i][1])\n",
    "    \n",
    "# creating the bar plot\n",
    "plt.bar(x_, y_, color ='maroon',\n",
    "        width = 0.4)\n",
    " \n",
    "plt.xlabel(\"Models\")\n",
    "plt.ylabel(\"training time\")\n",
    "plt.title(\" total training time\")\n",
    "plt.show()"
   ]
  },
  {
   "cell_type": "code",
   "execution_count": 18,
   "id": "a0646c6c",
   "metadata": {},
   "outputs": [
    {
     "data": {
      "image/png": "[encoded data removed]",
      "text/plain": [
       "<Figure size 360x216 with 1 Axes>"
      ]
     },
     "metadata": {
      "needs_background": "light"
     },
     "output_type": "display_data"
    }
   ],
   "source": [
    "fig = plt.figure(figsize = (5, 3))\n",
    "x_  = list(statistics.keys())\n",
    "y_  = []\n",
    "for i in statistics:\n",
    "    y_.append(statistics[i][2])\n",
    "plt.bar(x_, y_, color ='maroon',\n",
    "        width = 0.4)\n",
    " \n",
    "plt.xlabel(\"Models\")\n",
    "plt.ylabel(\"test time\")\n",
    "plt.title(\" total test time\")\n",
    "plt.show()"
   ]
  },
  {
   "cell_type": "code",
   "execution_count": 19,
   "id": "593e7f11",
   "metadata": {},
   "outputs": [],
   "source": [
    "\n",
    "# db = {}\n",
    "# db['model1'] = model1\n",
    "# db['mode12'] = model2\n",
    "# db['mode13'] = model3\n",
    "# db['Top_features'] = top_feature\n",
    "# db['statistics'] = statistics\n",
    "# dbfile = open('milestone2_Pickle', 'ab')\n",
    "\n",
    "# # source, destination\n",
    "# pickle.dump(db, dbfile)                     \n",
    "# dbfile.close()"
   ]
  },
  {
   "cell_type": "code",
   "execution_count": null,
   "id": "1df49dca",
   "metadata": {},
   "outputs": [],
   "source": []
  }
 ],
 "metadata": {
  "kernelspec": {
   "display_name": "Python 3 (ipykernel)",
   "language": "python",
   "name": "python3"
  },
  "language_info": {
   "codemirror_mode": {
    "name": "ipython",
    "version": 3
   },
   "file_extension": ".py",
   "mimetype": "text/x-python",
   "name": "python",
   "nbconvert_exporter": "python",
   "pygments_lexer": "ipython3",
   "version": "3.9.7"
  }
 },
 "nbformat": 4,
 "nbformat_minor": 5
}
